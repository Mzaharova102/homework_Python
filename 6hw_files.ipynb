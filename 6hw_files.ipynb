{
 "cells": [
  {
   "cell_type": "code",
   "execution_count": null,
   "metadata": {},
   "outputs": [],
   "source": [
    "# Переведите содержимое файла purchase_log.txt в словарь purchases вида:\n",
    "\n",
    "# {'1840e0b9d4': 'Продукты', ...}\n",
    "# Для каждого user_id в файле visit_log.csv определите третий столбец с категорией покупки (если покупка была, сам файл visit_log.csv изменять не надо). Запишите в файл funnel.csv визиты из файла visit_log.csv, в которых были покупки с указанием категории.\n",
    "\n",
    "# Учтите условия на данные:\n",
    "\n",
    "# содержимое purchase_log.txt помещается в оперативную память компьютера\n",
    "# содержимое visit_log.csv - нет; используйте только построчную обработку этого файла\n",
    "# import json\n",
    "# 1\n",
    "# import json"
   ]
  },
  {
   "cell_type": "code",
   "execution_count": 69,
   "metadata": {},
   "outputs": [],
   "source": [
    "import json"
   ]
  },
  {
   "cell_type": "code",
   "execution_count": 161,
   "metadata": {},
   "outputs": [
    {
     "name": "stdout",
     "output_type": "stream",
     "text": [
      "{'1840e0b9d4': 'Продукты'}\n"
     ]
    }
   ],
   "source": [
    "f = open('purchase_log.txt', 'r', encoding='utf-8')\n",
    "f.readline()\n",
    "\n",
    "purchase_ = {}\n",
    "for i, line in enumerate(f):\n",
    "    a = json.loads(line)\n",
    "#     print(a.keys())\n",
    "    purchase_[list(a.values())[0]] = list(a.values())[1]\n",
    "    if i < 1:\n",
    "        print(purchase_)\n",
    "f.close()    "
   ]
  },
  {
   "cell_type": "code",
   "execution_count": 170,
   "metadata": {},
   "outputs": [],
   "source": [
    "f = open('visit_log.csv', 'r')\n",
    "f_write = open('funnel.csv', 'w')\n",
    "for line in f:\n",
    "    a = line.strip().split(',')\n",
    "#     print(a)\n",
    "    for key, value in purchase_.items():\n",
    "        if a[0] == key:\n",
    "            a.append(value)\n",
    "#             print(a)\n",
    "            final_text = str(a)\n",
    "            f_write.write(final_text + '\\n')\n",
    "f.close()\n",
    "f_write.close()"
   ]
  },
  {
   "cell_type": "code",
   "execution_count": 167,
   "metadata": {},
   "outputs": [],
   "source": []
  },
  {
   "cell_type": "code",
   "execution_count": 145,
   "metadata": {},
   "outputs": [],
   "source": []
  }
 ],
 "metadata": {
  "kernelspec": {
   "display_name": "Python 3",
   "language": "python",
   "name": "python3"
  },
  "language_info": {
   "codemirror_mode": {
    "name": "ipython",
    "version": 3
   },
   "file_extension": ".py",
   "mimetype": "text/x-python",
   "name": "python",
   "nbconvert_exporter": "python",
   "pygments_lexer": "ipython3",
   "version": "3.7.6"
  }
 },
 "nbformat": 4,
 "nbformat_minor": 4
}
