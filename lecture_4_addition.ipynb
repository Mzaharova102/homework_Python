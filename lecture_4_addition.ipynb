{
 "cells": [
  {
   "cell_type": "code",
   "execution_count": null,
   "metadata": {},
   "outputs": [],
   "source": [
    "# Задача №1"
   ]
  },
  {
   "cell_type": "code",
   "execution_count": 87,
   "metadata": {},
   "outputs": [
    {
     "name": "stdout",
     "output_type": "stream",
     "text": [
      "{'visit1': ['Москва', 'Россия']}\n",
      "{'visit3': ['Владимир', 'Россия']}\n",
      "{'visit7': ['Тула', 'Россия']}\n",
      "{'visit8': ['Тула', 'Россия']}\n",
      "{'visit9': ['Курск', 'Россия']}\n",
      "{'visit10': ['Архангельск', 'Россия']}\n"
     ]
    }
   ],
   "source": [
    "geo_logs = [\n",
    "    {'visit1': ['Москва', 'Россия']},\n",
    "    {'visit2': ['Дели', 'Индия']},\n",
    "    {'visit3': ['Владимир', 'Россия']},\n",
    "    {'visit4': ['Лиссабон', 'Португалия']},\n",
    "    {'visit5': ['Париж', 'Франция']},\n",
    "    {'visit6': ['Лиссабон', 'Португалия']},\n",
    "    {'visit7': ['Тула', 'Россия']},\n",
    "    {'visit8': ['Тула', 'Россия']},\n",
    "    {'visit9': ['Курск', 'Россия']},\n",
    "    {'visit10': ['Архангельск', 'Россия']}\n",
    "]\n",
    "\n",
    "for lists in geo_logs:\n",
    "    for a in lists.values():\n",
    "         if a[1] == \"Россия\":\n",
    "            print(lists)\n",
    "\n",
    "            "
   ]
  },
  {
   "cell_type": "code",
   "execution_count": null,
   "metadata": {},
   "outputs": [],
   "source": [
    "# Задача № 2"
   ]
  },
  {
   "cell_type": "code",
   "execution_count": 35,
   "metadata": {},
   "outputs": [
    {
     "name": "stdout",
     "output_type": "stream",
     "text": [
      "[213, 15, 54, 119, 98, 35]\n"
     ]
    }
   ],
   "source": [
    "ids = {'user1': [213, 213, 213, 15, 213], \n",
    "       'user2': [54, 54, 119, 119, 119], \n",
    "      'user3': [213, 98, 98, 35]} \n",
    "s = []\n",
    "[[s.append(y) for y in a if y not in s] for a in ids.values()]\n",
    "print(s)"
   ]
  },
  {
   "cell_type": "code",
   "execution_count": 10,
   "metadata": {},
   "outputs": [
    {
     "name": "stdout",
     "output_type": "stream",
     "text": [
      "количество строк из 2 слов составляет 42%\n",
      "количество строк из 3 слов составляет 57%\n"
     ]
    }
   ],
   "source": [
    "# Задание 3. Дан список поисковых запросов. Получить распределение количества слов в них. Т. е. поисковых\n",
    "# запросов из одного - слова 5%, из двух - 7%, из трех - 3% и т.д.\n",
    "queries = [\n",
    "    'смотреть сериалы онлайн',\n",
    "    'новости спорта',\n",
    "    'афиша кино',\n",
    "    'курс доллара',\n",
    "    'сериалы этим летом',\n",
    "    'курс по питону',\n",
    "    'сериалы про спорт',\n",
    "]\n",
    "len_1 = len(queries)\n",
    "len_text = []\n",
    "for iteration in queries:\n",
    "    divided_list = iteration.split()\n",
    "    len_text.append(len(divided_list))\n",
    "set_text = set(len_text)\n",
    "for uniq in set_text:    \n",
    "    print(f'количество строк из {uniq} слов составляет {int(len_text.count(uniq) / len_1 * 100)}%')\n",
    "    \n"
   ]
  },
  {
   "cell_type": "code",
   "execution_count": 88,
   "metadata": {},
   "outputs": [
    {
     "name": "stdout",
     "output_type": "stream",
     "text": [
      "yandex\n"
     ]
    }
   ],
   "source": [
    "# Задача №4 Дана статистика рекламных каналов по объемам продаж. \n",
    "# Напишите скрипт, который возвращает название канала с максимальным объемом. \n",
    "# Т. е. в данном примере скрипт должен возвращать 'yandex'.\n",
    "\n",
    "stats = {'facebook': 55, 'yandex': 120, 'vk': 115, 'google': 99, 'email': 42, 'ok': 98}\n",
    "for name, val in stats.items():\n",
    "    if max(list(stats.values())) == val:\n",
    "        print(name)"
   ]
  },
  {
   "cell_type": "code",
   "execution_count": 4,
   "metadata": {},
   "outputs": [
    {
     "name": "stdout",
     "output_type": "stream",
     "text": [
      "{'2018-01-01': {'yandex': {'cpc': {100: {'2018-01-01': {'yandex': {'cpc': {'yandex': {'cpc': {100: {'2018-01-01': 'yandex'}}}}}}}}}}}\n"
     ]
    }
   ],
   "source": [
    "# Задание 5. Напишите код для преобразования произвольного списка вида \n",
    "# ['2018-01-01', 'yandex', 'cpc', 100] (он может быть любой длины) \n",
    "# в словарь {'2018-01-01': {'yandex': {'cpc': 100}}}\n",
    "list_new = *a, b, c = ['2018-01-01', 'yandex', 'cpc', 100, '2018-01-01', 'yandex', 'cpc', 'yandex', 'cpc', 100, '2018-01-01', 'yandex']\n",
    "dict_n = {b: c}\n",
    "# print(dict_n)\n",
    "a.reverse()\n",
    "for new_dict in a:\n",
    "    dict_n = {new_dict: dict_n}\n",
    "\n",
    "print(dict_n)\n",
    "# В этой задаче все работает, или я не понимаю о какой ошибке Вы мне говорите."
   ]
  },
  {
   "cell_type": "code",
   "execution_count": null,
   "metadata": {},
   "outputs": [],
   "source": []
  }
 ],
 "metadata": {
  "kernelspec": {
   "display_name": "Python 3",
   "language": "python",
   "name": "python3"
  },
  "language_info": {
   "codemirror_mode": {
    "name": "ipython",
    "version": 3
   },
   "file_extension": ".py",
   "mimetype": "text/x-python",
   "name": "python",
   "nbconvert_exporter": "python",
   "pygments_lexer": "ipython3",
   "version": "3.7.6"
  }
 },
 "nbformat": 4,
 "nbformat_minor": 4
}
