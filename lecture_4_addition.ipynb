{
 "cells": [
  {
   "cell_type": "code",
   "execution_count": null,
   "metadata": {},
   "outputs": [],
   "source": [
    "# Задача №1"
   ]
  },
  {
   "cell_type": "code",
   "execution_count": 87,
   "metadata": {},
   "outputs": [
    {
     "name": "stdout",
     "output_type": "stream",
     "text": [
      "{'visit1': ['Москва', 'Россия']}\n",
      "{'visit3': ['Владимир', 'Россия']}\n",
      "{'visit7': ['Тула', 'Россия']}\n",
      "{'visit8': ['Тула', 'Россия']}\n",
      "{'visit9': ['Курск', 'Россия']}\n",
      "{'visit10': ['Архангельск', 'Россия']}\n"
     ]
    }
   ],
   "source": [
    "geo_logs = [\n",
    "    {'visit1': ['Москва', 'Россия']},\n",
    "    {'visit2': ['Дели', 'Индия']},\n",
    "    {'visit3': ['Владимир', 'Россия']},\n",
    "    {'visit4': ['Лиссабон', 'Португалия']},\n",
    "    {'visit5': ['Париж', 'Франция']},\n",
    "    {'visit6': ['Лиссабон', 'Португалия']},\n",
    "    {'visit7': ['Тула', 'Россия']},\n",
    "    {'visit8': ['Тула', 'Россия']},\n",
    "    {'visit9': ['Курск', 'Россия']},\n",
    "    {'visit10': ['Архангельск', 'Россия']}\n",
    "]\n",
    "\n",
    "for lists in geo_logs:\n",
    "    for a in lists.values():\n",
    "         if a[1] == \"Россия\":\n",
    "            print(lists)\n",
    "\n",
    "            "
   ]
  },
  {
   "cell_type": "code",
   "execution_count": null,
   "metadata": {},
   "outputs": [],
   "source": [
    "# Задача № 2"
   ]
  },
  {
   "cell_type": "code",
   "execution_count": 25,
   "metadata": {},
   "outputs": [
    {
     "name": "stdout",
     "output_type": "stream",
     "text": [
      "[98, 35, 213, 54, 119, 15]\n"
     ]
    }
   ],
   "source": [
    "ids = {'user1': [213, 213, 213, 15, 213], \n",
    "       'user2': [54, 54, 119, 119, 119], \n",
    "       'user3': [213, 98, 98, 35]}\n",
    "print(list((set(ids['user1'])).union(set(ids['user2'])).union(set(ids['user3']))))"
   ]
  },
  {
   "cell_type": "code",
   "execution_count": 97,
   "metadata": {},
   "outputs": [
    {
     "name": "stdout",
     "output_type": "stream",
     "text": [
      "3\n",
      "4\n"
     ]
    }
   ],
   "source": [
    "# Задание 3. Дан список поисковых запросов. Получить распределение количества слов в них. Т. е. поисковых\n",
    "# запросов из одного - слова 5%, из двух - 7%, из трех - 3% и т.д.\n",
    "queries = [\n",
    "    'смотреть сериалы онлайн',\n",
    "    'новости спорта',\n",
    "    'афиша кино',\n",
    "    'курс доллара',\n",
    "    'сериалы этим летом',\n",
    "    'курс по питону',\n",
    "    'сериалы про спорт',\n",
    "]\n",
    "resalt = []\n",
    "for name in queries:\n",
    "    a = len(name.split())\n",
    "    resalt.append(a)\n",
    "uniq_resalt = set(resalt)\n",
    "for el in uniq_resalt:\n",
    "    print(resalt.count(el))\n",
    "# new_list = {name: len(name.split()) for name in queries if len(name.split()) if len(name.split())}\n",
    "# new_list.value()\n",
    "# Запуталась(\n",
    "    \n"
   ]
  },
  {
   "cell_type": "code",
   "execution_count": 88,
   "metadata": {},
   "outputs": [
    {
     "name": "stdout",
     "output_type": "stream",
     "text": [
      "yandex\n"
     ]
    }
   ],
   "source": [
    "# Задача №4 Дана статистика рекламных каналов по объемам продаж. \n",
    "# Напишите скрипт, который возвращает название канала с максимальным объемом. \n",
    "# Т. е. в данном примере скрипт должен возвращать 'yandex'.\n",
    "\n",
    "stats = {'facebook': 55, 'yandex': 120, 'vk': 115, 'google': 99, 'email': 42, 'ok': 98}\n",
    "for name, val in stats.items():\n",
    "    if max(list(stats.values())) == val:\n",
    "        print(name)"
   ]
  },
  {
   "cell_type": "code",
   "execution_count": 22,
   "metadata": {},
   "outputs": [
    {
     "name": "stdout",
     "output_type": "stream",
     "text": [
      "{'2018-01-01': {'yandex': {'cpc': {100: {10: {100: 10}}}}}}\n"
     ]
    }
   ],
   "source": [
    "# Задание 5. Напишите код для преобразования произвольного списка вида \n",
    "# ['2018-01-01', 'yandex', 'cpc', 100] (он может быть любой длины) \n",
    "# в словарь {'2018-01-01': {'yandex': {'cpc': 100}}}\n",
    "list_new = ['2018-01-01', 'yandex', 'cpc', 100, 10]\n",
    "dict_n = {list_new[-2]: list_new[-1]}\n",
    "list_new.reverse()\n",
    "for new_dict in list_new:\n",
    "    dict_n = {new_dict: dict_n}\n",
    "print(dict_n)"
   ]
  }
 ],
 "metadata": {
  "kernelspec": {
   "display_name": "Python 3",
   "language": "python",
   "name": "python3"
  },
  "language_info": {
   "codemirror_mode": {
    "name": "ipython",
    "version": 3
   },
   "file_extension": ".py",
   "mimetype": "text/x-python",
   "name": "python",
   "nbconvert_exporter": "python",
   "pygments_lexer": "ipython3",
   "version": "3.7.6"
  }
 },
 "nbformat": 4,
 "nbformat_minor": 4
}
