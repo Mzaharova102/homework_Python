{
 "cells": [
  {
   "cell_type": "code",
   "execution_count": null,
   "metadata": {},
   "outputs": [],
   "source": [
    "#ДЗ"
   ]
  },
  {
   "cell_type": "code",
   "execution_count": null,
   "metadata": {},
   "outputs": [],
   "source": [
    "# Вы работаете секретарем и вам постоянно приходят различные документы. \n",
    "# Вы должны быть очень внимательны, чтобы не потерять ни один документ. Каталог документов хранится в следующем виде:"
   ]
  },
  {
   "cell_type": "code",
   "execution_count": null,
   "metadata": {},
   "outputs": [],
   "source": [
    "documents = [\n",
    "    {'type': 'passport', 'number': '2207 876234', 'name': 'Василий Гупкин'},\n",
    "    {'type': 'invoice', 'number': '11-2', 'name': 'Геннадий Покемонов'},\n",
    "    {'type': 'insurance', 'number': '10006', 'name': 'Аристарх Павлов'}\n",
    "]"
   ]
  },
  {
   "cell_type": "code",
   "execution_count": 60,
   "metadata": {},
   "outputs": [],
   "source": [
    "\n",
    "# Перечень полок, на которых находятся документы хранится в следующем виде:\n",
    "# Необходимо реализовать пользовательские команды (внимание! это не название функций, которые должны быть выразительными, \n",
    "# а команды, которые вводит пользователь, чтобы получить необходимый результат):\n",
    "\n",
    "# p – people – команда, которая спросит номер документа и выведет имя человека, которому он принадлежит;\n",
    "# s – shelf – команда, которая спросит номер документа и выведет номер полки, на которой он находится\n",
    "# Правильно обработайте ситуации, когда пользователь будет вводить несуществующий документ.\n",
    "# l – list – команда, которая выведет список всех документов в формате\n",
    "# passport \"2207 876234\" \"Василий Гупкин\"\n",
    "# as – add shelf – команда, которая спросит номер новой полки и добавит ее в перечень. Предусмотрите случай, \n",
    "# когда пользователь добавляет полку, которая уже существует.\n",
    "# d – delete – команда, которая спросит номер документа и удалит его из каталога и из перечня полок. \n",
    "# Предусмотрите сценарий, когда пользователь вводит несуществующий документ;\n",
    "# m – move – команда, которая спросит номер документа и целевую полку и переместит его с текущей полки на целевую. \n",
    "# Корректно обработайте кейсы, когда пользователь пытается переместить несуществующий документ или переместить документ \n",
    "# на несуществующую полку;\n",
    "# a – add – команда, которая добавит новый документ в каталог и в перечень полок, спросив его номер, тип, имя владельца \n",
    "# и номер полки, на котором он будет храниться. Корректно обработайте ситуацию, когда пользователь будет пытаться добавить\n",
    "# документ на несуществующую полку.\n",
    "directories = {\n",
    "    '1': ['2207 876234', '11-2'],\n",
    "    '2': ['10006'],\n",
    "    '3': []\n",
    "}\n",
    "documents = [\n",
    "    {'type': 'passport', 'number': '2207 876234', 'name': 'Василий Гупкин'},\n",
    "    {'type': 'invoice', 'number': '11-2', 'name': 'Геннадий Покемонов'},\n",
    "    {'type': 'insurance', 'number': '10006', 'name': 'Аристарх Павлов'}\n",
    "]\n"
   ]
  },
  {
   "cell_type": "code",
   "execution_count": 61,
   "metadata": {},
   "outputs": [],
   "source": [
    "# p – people – команда, которая спросит номер документа и выведет имя человека, которому он принадлежит;\n",
    "documents = [\n",
    "    {'type': 'passport', 'number': '2207 876234', 'name': 'Василий Гупкин'},\n",
    "    {'type': 'invoice', 'number': '11-2', 'name': 'Геннадий Покемонов'},\n",
    "    {'type': 'insurance', 'number': '10006', 'name': 'Аристарх Павлов'}\n",
    "]\n",
    "def print_people(doc):\n",
    "    number_i = input(\"введите номер док-та: \")\n",
    "    for number in documents:\n",
    "        if number['number'] ==  number_i: \n",
    "            print(number['name'])\n",
    "            return\n",
    "    print('имя не найдено')\n",
    "# print_people(documents)"
   ]
  },
  {
   "cell_type": "code",
   "execution_count": 62,
   "metadata": {},
   "outputs": [],
   "source": [
    "# s – shelf – команда, которая спросит номер документа и выведет номер полки, на которой он находится\n",
    "# Правильно обработайте ситуации, когда пользователь будет вводить несуществующий документ.\n",
    "directories = {\n",
    "    '1': ['2207 876234', '11-2'],\n",
    "    '2': ['10006'],\n",
    "    '3': []\n",
    "}\n",
    "def print_shelf(doc):\n",
    "    number_i = input(\"введите номер док-та: \")\n",
    "    for x, b in directories.items():\n",
    "        if number_i in b:\n",
    "            print(f\"Полка № {x}\")\n",
    "            return\n",
    "    print('документ отсутствует')\n",
    "# print_shelf(directories)"
   ]
  },
  {
   "cell_type": "code",
   "execution_count": 63,
   "metadata": {},
   "outputs": [],
   "source": [
    "#     l – list – команда, которая выведет список всех документов в формате\n",
    "#     passport \"2207 876234\" \"Василий Гупкин\"\n",
    "\n",
    "def print_list(com):\n",
    "    \n",
    "    for iter_i in documents:\n",
    "        print(list(iter_i.values()))\n",
    "    \n",
    "# list_dok()"
   ]
  },
  {
   "cell_type": "code",
   "execution_count": 65,
   "metadata": {},
   "outputs": [],
   "source": [
    "# as – add shelf – команда, которая спросит номер новой полки и добавит ее в перечень. Предусмотрите случай, \n",
    "# когда пользователь добавляет полку, которая уже существует.\n",
    "directories = {\n",
    "    '1': ['2207 876234', '11-2'],\n",
    "    '2': ['10006'],\n",
    "    '3': []\n",
    "}\n",
    "def print_add_shelf(new):\n",
    "    number_i = input('введите номер новой полки: ')\n",
    "    if number_i  in directories:\n",
    "        print('Полка с таким номером уже существует')\n",
    "        return\n",
    "    else:\n",
    "        print(f\"Добавляю полку № {number_i}\")\n",
    "        directories[number_i] = []\n",
    "    print(directories)\n",
    "    return\n",
    "# print_add_shelf(directories)"
   ]
  },
  {
   "cell_type": "code",
   "execution_count": 66,
   "metadata": {},
   "outputs": [],
   "source": [
    "# d – delete – команда, которая спросит номер документа и удалит его из каталога и из перечня полок. \n",
    "# Предусмотрите сценарий, когда пользователь вводит несуществующий документ;\n",
    "def delete_number():\n",
    "    number = input('Введите идентификатор пользователя ')    \n",
    "    for i_ in documents:    \n",
    "        if number in i_.values():\n",
    "            documents.remove(i_)\n",
    "            for number_dir in directories.values():\n",
    "                if number in number_dir:            \n",
    "                    number_dir.remove(number)\n",
    "                    print_text = print(f'Пользователь {number} удален! {documents} {directories}')\n",
    "                    return    \n",
    "    print('Идентификатор не найден')\n",
    "# delete_number()"
   ]
  },
  {
   "cell_type": "code",
   "execution_count": 67,
   "metadata": {},
   "outputs": [],
   "source": [
    "# m – move – команда, которая спросит номер документа и целевую полку и переместит его с текущей полки на целевую. \n",
    "# Корректно обработайте кейсы, когда пользователь пытается переместить несуществующий документ или переместить документ \n",
    "# на несуществующую полку;\n",
    "def move_number():\n",
    "    number_dok = input('Введите идентификатор пользователя ')\n",
    "    shelf_dok = input('Введите на какую полку перенести пользователя ')\n",
    "    result = []    \n",
    "    for shelf, dok in directories.items():    \n",
    "        if number_dok in dok and shelf_dok in directories:            \n",
    "            dok.remove(number_dok)            \n",
    "            directories[shelf_dok].append(number_dok)            \n",
    "            print(f'{directories}')\n",
    "            return             \n",
    "    result = print('Вводимые данные не верны')\n",
    "# move_number()"
   ]
  },
  {
   "cell_type": "code",
   "execution_count": 68,
   "metadata": {},
   "outputs": [],
   "source": [
    "# a – add – команда, которая добавит новый документ в каталог и в перечень полок, спросив его номер, тип, имя владельца \n",
    "# и номер полки, на котором он будет храниться. Корректно обработайте ситуацию, когда пользователь будет пытаться добавить\n",
    "# документ на несуществующую полку.\n",
    "documents = [\n",
    "    {'type': 'passport', 'number': '2207 876234', 'name': 'Василий Гупкин'},\n",
    "    {'type': 'invoice', 'number': '11-2', 'name': 'Геннадий Покемонов'},\n",
    "    {'type': 'insurance', 'number': '10006', 'name': 'Аристарх Павлов'}\n",
    "]\n",
    "directories = {\n",
    "    '1': ['2207 876234', '11-2'],\n",
    "    '2': ['10006'],\n",
    "    '3': []\n",
    "}\n",
    "def add(doc, dir_):\n",
    "    name_user = input('Введите имя: ')\n",
    "    number_user = input('Идентификатор: ')\n",
    "    type_user = input('Введите тип документа: ')\n",
    "    number_shelf = input('Номер полки: ')    \n",
    "    if name_user and number_user and type_user not in documents:\n",
    "        documents.append({'type': (type_user), 'number': (number_user), 'name': (name_user)})        \n",
    "        if number_shelf in directories.keys():\n",
    "            directories[number_shelf].append(number_user)\n",
    "            print(documents, directories)\n",
    "            return\n",
    "        else:\n",
    "            print('Полка не найдена ')\n",
    "            return\n",
    "    else:\n",
    "        print('Вводимые данные не верны')\n",
    "        return\n",
    "# add(documents, directories)"
   ]
  },
  {
   "cell_type": "code",
   "execution_count": 71,
   "metadata": {},
   "outputs": [],
   "source": [
    "def main():\n",
    "    while True:\n",
    "        user_input = input(\"Введите запрос: \")\n",
    "        if user_input == \"p\":\n",
    "            print_people(documents)\n",
    "        elif user_input == \"s\":\n",
    "            print_shelf(directories)\n",
    "        elif user_input == \"l\":\n",
    "            print_list(documents)\n",
    "        elif user_input == \"as\":\n",
    "            print_add_shelf(directories)\n",
    "        elif user_input == \"d\":\n",
    "            delete_number() \n",
    "        elif user_input == \"m\":\n",
    "            move_number()\n",
    "        elif user_input == \"a\":\n",
    "            add(documents, directories)\n",
    "        elif user_input == 'q':\n",
    "            break"
   ]
  },
  {
   "cell_type": "code",
   "execution_count": 72,
   "metadata": {},
   "outputs": [
    {
     "name": "stdout",
     "output_type": "stream",
     "text": [
      "Введите запрос: m\n",
      "Введите идентификатор пользователя 11-2\n",
      "Введите на какую полку перенести пользователя 3\n",
      "Вводимые данные не верны\n",
      "Введите запрос: m\n",
      "Введите идентификатор пользователя 10006\n",
      "Введите на какую полку перенести пользователя 3\n",
      "{'1': ['2207 876234'], '2': [], '3': ['10006']}\n",
      "Введите запрос: a\n",
      "Введите имя: Геннадий Покемонов\n",
      "Идентификатор: 11-2\n",
      "Введите тип документа: invoice\n",
      "Номер полки: 1\n",
      "[{'type': 'passport', 'number': '2207 876234', 'name': 'Василий Гупкин'}, {'type': 'insurance', 'number': '10006', 'name': 'Аристарх Павлов'}, {'type': 'invoice', 'number': '11-2', 'name': 'Геннадий Покемонов'}] {'1': ['2207 876234', '11-2'], '2': [], '3': ['10006']}\n",
      "Введите запрос: q\n"
     ]
    }
   ],
   "source": [
    "main()"
   ]
  },
  {
   "cell_type": "code",
   "execution_count": null,
   "metadata": {},
   "outputs": [],
   "source": []
  }
 ],
 "metadata": {
  "kernelspec": {
   "display_name": "Python 3",
   "language": "python",
   "name": "python3"
  },
  "language_info": {
   "codemirror_mode": {
    "name": "ipython",
    "version": 3
   },
   "file_extension": ".py",
   "mimetype": "text/x-python",
   "name": "python",
   "nbconvert_exporter": "python",
   "pygments_lexer": "ipython3",
   "version": "3.7.6"
  }
 },
 "nbformat": 4,
 "nbformat_minor": 4
}
