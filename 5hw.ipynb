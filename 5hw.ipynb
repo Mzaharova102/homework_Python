{
 "cells": [
  {
   "cell_type": "code",
   "execution_count": null,
   "metadata": {},
   "outputs": [],
   "source": [
    "#ДЗ"
   ]
  },
  {
   "cell_type": "code",
   "execution_count": null,
   "metadata": {},
   "outputs": [],
   "source": [
    "# Вы работаете секретарем и вам постоянно приходят различные документы. \n",
    "# Вы должны быть очень внимательны, чтобы не потерять ни один документ. Каталог документов хранится в следующем виде:"
   ]
  },
  {
   "cell_type": "code",
   "execution_count": null,
   "metadata": {},
   "outputs": [],
   "source": [
    "documents = [\n",
    "    {'type': 'passport', 'number': '2207 876234', 'name': 'Василий Гупкин'},\n",
    "    {'type': 'invoice', 'number': '11-2', 'name': 'Геннадий Покемонов'},\n",
    "    {'type': 'insurance', 'number': '10006', 'name': 'Аристарх Павлов'}\n",
    "]"
   ]
  },
  {
   "cell_type": "code",
   "execution_count": 57,
   "metadata": {},
   "outputs": [],
   "source": [
    "\n",
    "# Перечень полок, на которых находятся документы хранится в следующем виде:\n",
    "# Необходимо реализовать пользовательские команды (внимание! это не название функций, которые должны быть выразительными, \n",
    "# а команды, которые вводит пользователь, чтобы получить необходимый результат):\n",
    "\n",
    "# p – people – команда, которая спросит номер документа и выведет имя человека, которому он принадлежит;\n",
    "# s – shelf – команда, которая спросит номер документа и выведет номер полки, на которой он находится\n",
    "# Правильно обработайте ситуации, когда пользователь будет вводить несуществующий документ.\n",
    "# l – list – команда, которая выведет список всех документов в формате\n",
    "# passport \"2207 876234\" \"Василий Гупкин\"\n",
    "# as – add shelf – команда, которая спросит номер новой полки и добавит ее в перечень. Предусмотрите случай, \n",
    "# когда пользователь добавляет полку, которая уже существует.\n",
    "# d – delete – команда, которая спросит номер документа и удалит его из каталога и из перечня полок. \n",
    "# Предусмотрите сценарий, когда пользователь вводит несуществующий документ;\n",
    "# m – move – команда, которая спросит номер документа и целевую полку и переместит его с текущей полки на целевую. \n",
    "# Корректно обработайте кейсы, когда пользователь пытается переместить несуществующий документ или переместить документ \n",
    "# на несуществующую полку;\n",
    "# a – add – команда, которая добавит новый документ в каталог и в перечень полок, спросив его номер, тип, имя владельца \n",
    "# и номер полки, на котором он будет храниться. Корректно обработайте ситуацию, когда пользователь будет пытаться добавить\n",
    "# документ на несуществующую полку.\n",
    "directories = {\n",
    "    '1': ['2207 876234', '11-2'],\n",
    "    '2': ['10006'],\n",
    "    '3': []\n",
    "}\n",
    "documents = [\n",
    "    {'type': 'passport', 'number': '2207 876234', 'name': 'Василий Гупкин'},\n",
    "    {'type': 'invoice', 'number': '11-2', 'name': 'Геннадий Покемонов'},\n",
    "    {'type': 'insurance', 'number': '10006', 'name': 'Аристарх Павлов'}\n",
    "]\n"
   ]
  },
  {
   "cell_type": "code",
   "execution_count": 7,
   "metadata": {},
   "outputs": [
    {
     "name": "stdout",
     "output_type": "stream",
     "text": [
      "введите номер док-та: 2207 876234\n",
      "Василий Гупкин\n"
     ]
    }
   ],
   "source": [
    "# p – people – команда, которая спросит номер документа и выведет имя человека, которому он принадлежит;\n",
    "documents = [\n",
    "    {'type': 'passport', 'number': '2207 876234', 'name': 'Василий Гупкин'},\n",
    "    {'type': 'invoice', 'number': '11-2', 'name': 'Геннадий Покемонов'},\n",
    "    {'type': 'insurance', 'number': '10006', 'name': 'Аристарх Павлов'}\n",
    "]\n",
    "def print_people(doc):\n",
    "    number_i = input(\"введите номер док-та: \")\n",
    "    for number in documents:\n",
    "        if number['number'] ==  number_i: \n",
    "            print(number['name'])\n",
    "print_people(documents)"
   ]
  },
  {
   "cell_type": "code",
   "execution_count": 8,
   "metadata": {},
   "outputs": [
    {
     "name": "stdout",
     "output_type": "stream",
     "text": [
      "введите номер док-та: 10006\n",
      "Полка № 2\n"
     ]
    }
   ],
   "source": [
    "# s – shelf – команда, которая спросит номер документа и выведет номер полки, на которой он находится\n",
    "directories = {\n",
    "    '1': ['2207 876234', '11-2'],\n",
    "    '2': ['10006'],\n",
    "    '3': []\n",
    "}\n",
    "def print_shelf(doc):\n",
    "    number_i = input(\"введите номер док-та: \")\n",
    "    for x, b in directories.items():\n",
    "        if number_i in b:\n",
    "            print(f\"Полка № {x}\") \n",
    "print_shelf(directories)"
   ]
  },
  {
   "cell_type": "code",
   "execution_count": 9,
   "metadata": {},
   "outputs": [
    {
     "name": "stdout",
     "output_type": "stream",
     "text": [
      "введите  док-т: invoice\n",
      "invoice 11-2 Геннадий Покемонов\n"
     ]
    }
   ],
   "source": [
    "# l – list – команда, которая выведет список всех документов в формате\n",
    "# passport \"2207 876234\" \"Василий Гупкин\"\n",
    "documents = [\n",
    "    {'type': 'passport', 'number': '2207 876234', 'name': 'Василий Гупкин'},\n",
    "    {'type': 'invoice', 'number': '11-2', 'name': 'Геннадий Покемонов'},\n",
    "    {'type': 'insurance', 'number': '10006', 'name': 'Аристарх Павлов'}\n",
    "]\n",
    "def print_list(com):\n",
    "    number_i = input(\"введите  док-т: \")\n",
    "    for number in documents:\n",
    "        if number['type'] ==  number_i: \n",
    "            print(f\"{number['type']} {number['number']} {number['name']}\")\n",
    "print_list(documents)            "
   ]
  },
  {
   "cell_type": "code",
   "execution_count": 10,
   "metadata": {},
   "outputs": [
    {
     "name": "stdout",
     "output_type": "stream",
     "text": [
      "введите номер новой полки: 3\n",
      "Полка с таким номером уже существует\n"
     ]
    },
    {
     "data": {
      "text/plain": [
       "{'1': ['2207 876234', '11-2'], '2': ['10006'], '3': []}"
      ]
     },
     "execution_count": 10,
     "metadata": {},
     "output_type": "execute_result"
    }
   ],
   "source": [
    "# as – add shelf – команда, которая спросит номер новой полки и добавит ее в перечень. Предусмотрите случай, \n",
    "# когда пользователь добавляет полку, которая уже существует.\n",
    "directories = {\n",
    "    '1': ['2207 876234', '11-2'],\n",
    "    '2': ['10006'],\n",
    "    '3': []\n",
    "}\n",
    "def print_add_shelf(new):\n",
    "    number_i = input('введите номер новой полки: ')\n",
    "    if number_i  in directories:\n",
    "        print('Полка с таким номером уже существует')\n",
    "    else:\n",
    "        print(f\"Добавляю полку № {number_i}\")\n",
    "        directories[number_i] = []\n",
    "    return(directories)\n",
    "print_add_shelf(directories)"
   ]
  },
  {
   "cell_type": "code",
   "execution_count": 27,
   "metadata": {},
   "outputs": [
    {
     "name": "stdout",
     "output_type": "stream",
     "text": [
      "введите номер документа: 3\n",
      "Удаляю полку № 3\n"
     ]
    },
    {
     "data": {
      "text/plain": [
       "{'1': ['2207 876234', '11-2'], '2': ['10006']}"
      ]
     },
     "execution_count": 27,
     "metadata": {},
     "output_type": "execute_result"
    }
   ],
   "source": [
    "# d – delete – команда, которая спросит номер документа и удалит его из каталога и из перечня полок. \n",
    "# Предусмотрите сценарий, когда пользователь вводит несуществующий документ;\n",
    "directories = {\n",
    "    '1': ['2207 876234', '11-2'],\n",
    "    '2': ['10006'],\n",
    "    '3': []\n",
    "}\n",
    "def print_delete(direct):\n",
    "    number_i = input('введите номер полки: ')\n",
    "    if number_i not in directories:\n",
    "        print('Полка с таким номером не существует')\n",
    "    else:\n",
    "        print(f\"Удаляю полку № {number_i}\")\n",
    "        del(directories[number_i])\n",
    "    return(directories)\n",
    "print_delete(directories)    "
   ]
  },
  {
   "cell_type": "code",
   "execution_count": 28,
   "metadata": {},
   "outputs": [
    {
     "name": "stdout",
     "output_type": "stream",
     "text": [
      "введите номер документа: 10006\n",
      "введите номер целевой полки: 3\n"
     ]
    },
    {
     "data": {
      "text/plain": [
       "{'1': ['2207 876234', '11-2'], '2': ['10006'], '3': []}"
      ]
     },
     "execution_count": 28,
     "metadata": {},
     "output_type": "execute_result"
    }
   ],
   "source": [
    "# m – move – команда, которая спросит номер документа и целевую полку и переместит его с текущей полки на целевую. \n",
    "# Корректно обработайте кейсы, когда пользователь пытается переместить несуществующий документ или переместить документ \n",
    "# на несуществующую полку;\n",
    "directories = {\n",
    "    '1': ['2207 876234', '11-2'],\n",
    "    '2': ['10006'],\n",
    "    '3': []\n",
    "}\n",
    "def move(numb):\n",
    "    number_i = input('введите номер документа: ')\n",
    "    number_b = input('введите номер целевой полки: ')\n",
    "    for key, value in directories.items():   \n",
    "        if number_i in value:                 \n",
    "            directories[key].remove(number_i)\n",
    "            if number_b in directories.keys():\n",
    "                directories[number_b].append(number_i)\n",
    "        return(directories)\n",
    "move(directories)"
   ]
  },
  {
   "cell_type": "code",
   "execution_count": 29,
   "metadata": {},
   "outputs": [
    {
     "name": "stdout",
     "output_type": "stream",
     "text": [
      "введите тип документа: insurance\n",
      "введите номер документа: 11-2\n",
      "введите имя: Василий Гупкин\n",
      "введите номер полки: 3\n",
      "[{'type': 'passport', 'number': '2207 876234', 'name': 'Василий Гупкин'}, {'type': 'invoice', 'number': '11-2', 'name': 'Геннадий Покемонов'}, {'type': 'insurance', 'number': '10006', 'name': 'Аристарх Павлов'}, {'type': 'insurance', 'number': '11-2', 'name': 'Василий Гупкин'}]\n"
     ]
    },
    {
     "data": {
      "text/plain": [
       "{'1': ['2207 876234', '11-2'], '2': ['10006'], '3': ['11-2']}"
      ]
     },
     "execution_count": 29,
     "metadata": {},
     "output_type": "execute_result"
    }
   ],
   "source": [
    "# a – add – команда, которая добавит новый документ в каталог и в перечень полок, спросив его номер, тип, имя владельца \n",
    "# и номер полки, на котором он будет храниться. Корректно обработайте ситуацию, когда пользователь будет пытаться добавить\n",
    "# документ на несуществующую полку.\n",
    "documents = [\n",
    "    {'type': 'passport', 'number': '2207 876234', 'name': 'Василий Гупкин'},\n",
    "    {'type': 'invoice', 'number': '11-2', 'name': 'Геннадий Покемонов'},\n",
    "    {'type': 'insurance', 'number': '10006', 'name': 'Аристарх Павлов'}\n",
    "]\n",
    "directories = {\n",
    "    '1': ['2207 876234', '11-2'],\n",
    "    '2': ['10006'],\n",
    "    '3': []\n",
    "}\n",
    "def add(doc, dir_):\n",
    "    type_= input('введите тип документа: ')\n",
    "    number_ = input('введите номер документа: ')\n",
    "    name_ = input('введите имя: ')\n",
    "    number_shelf = input('введите номер полки: ')\n",
    "    documents.append({'type': type_ , 'number': number_ , 'name': name_})\n",
    "    print(documents)\n",
    "    for key in directories.items():   \n",
    "        if number_shelf in directories.keys():                 \n",
    "            directories[number_shelf].append(number_)\n",
    "        return(directories)\n",
    "#     print(directories)               \n",
    "add(documents, directories)"
   ]
  },
  {
   "cell_type": "code",
   "execution_count": 32,
   "metadata": {},
   "outputs": [],
   "source": [
    "def main():\n",
    "    while True:\n",
    "        user_input = input(\"Введите запрос: \")\n",
    "        if user_input == \"p\":\n",
    "            print_people(documents)\n",
    "        elif user_input == \"s\":\n",
    "            print_shelf(directories)\n",
    "        elif user_input == \"l\":\n",
    "            print_list(documents)\n",
    "        elif user_input == \"as\":\n",
    "            print_add_shelf(directories)\n",
    "        elif user_input == \"d\":\n",
    "            print_delete(directories) \n",
    "        elif user_input == \"m\":\n",
    "            move(directories)\n",
    "        elif user_input == \"a\":\n",
    "            add(documents, directories)\n",
    "            break "
   ]
  },
  {
   "cell_type": "code",
   "execution_count": 33,
   "metadata": {},
   "outputs": [
    {
     "name": "stdout",
     "output_type": "stream",
     "text": [
      "Введите запрос: a\n",
      "введите тип документа: passport\n",
      "введите номер документа: 11-2\n",
      "введите имя: Аристарх Павлов\n",
      "введите номер полки: 3\n",
      "[{'type': 'passport', 'number': '2207 876234', 'name': 'Василий Гупкин'}, {'type': 'invoice', 'number': '11-2', 'name': 'Геннадий Покемонов'}, {'type': 'insurance', 'number': '10006', 'name': 'Аристарх Павлов'}, {'type': 'insurance', 'number': '11-2', 'name': 'Василий Гупкин'}, {'type': 'passport', 'number': '2207 876234', 'name': 'Аристарх Павлов'}, {'type': 'passport', 'number': '11-2', 'name': 'Аристарх Павлов'}]\n"
     ]
    }
   ],
   "source": [
    "main()"
   ]
  },
  {
   "cell_type": "code",
   "execution_count": null,
   "metadata": {},
   "outputs": [],
   "source": []
  }
 ],
 "metadata": {
  "kernelspec": {
   "display_name": "Python 3",
   "language": "python",
   "name": "python3"
  }
 },
 "nbformat": 4,
 "nbformat_minor": 4
}
