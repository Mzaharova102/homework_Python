{
 "cells": [
  {
   "cell_type": "code",
   "execution_count": 21,
   "metadata": {},
   "outputs": [
    {
     "data": {
      "text/plain": [
       "datetime.datetime(2002, 10, 1, 0, 0)"
      ]
     },
     "execution_count": 21,
     "metadata": {},
     "output_type": "execute_result"
    }
   ],
   "source": [
    "#Задание 1 datetime:\n",
    "The_Moscow_Times = 'Wednesday, October 2, 2002'\n",
    "datetime.strptime('Wednesday, October 2, 2002', '%A, %B %u, %Y')\n"
   ]
  },
  {
   "cell_type": "code",
   "execution_count": 22,
   "metadata": {},
   "outputs": [
    {
     "data": {
      "text/plain": [
       "datetime.datetime(2011, 10, 13, 0, 0)"
      ]
     },
     "execution_count": 22,
     "metadata": {},
     "output_type": "execute_result"
    }
   ],
   "source": [
    "The_Guardian = 'Friday, 11.10.13'\n",
    "datetime.strptime('Friday, 11.10.13', '%A, %y.%m.%d')"
   ]
  },
  {
   "cell_type": "code",
   "execution_count": 23,
   "metadata": {},
   "outputs": [
    {
     "data": {
      "text/plain": [
       "datetime.datetime(1977, 8, 18, 0, 0)"
      ]
     },
     "execution_count": 23,
     "metadata": {},
     "output_type": "execute_result"
    }
   ],
   "source": [
    "Daily_News = 'Thursday, 18 August 1977'\n",
    "datetime.strptime('Thursday, 18 August 1977', '%A, %d %B %Y')\n"
   ]
  },
  {
   "cell_type": "code",
   "execution_count": 1,
   "metadata": {},
   "outputs": [],
   "source": [
    "from datetime import datetime"
   ]
  },
  {
   "cell_type": "code",
   "execution_count": null,
   "metadata": {},
   "outputs": [],
   "source": [
    "# Задание 2\n",
    "# Дан поток дат в формате YYYY-MM-DD, в которых встречаются некорректные значения:\n",
    "# stream = [‘2018-04-02’, ‘2018-02-29’, ‘2018-19-02’]\n",
    "# Напишите функцию, которая проверяет эти даты на корректность. Т. е. для \n",
    "# каждой даты возвращает True (дата корректна) или False (некорректная дата).\n"
   ]
  },
  {
   "cell_type": "code",
   "execution_count": 1,
   "metadata": {},
   "outputs": [],
   "source": [
    "stream = ['2018-04-02', '2018-02-29', '2018-19-02']"
   ]
  },
  {
   "cell_type": "code",
   "execution_count": 2,
   "metadata": {},
   "outputs": [],
   "source": [
    "from datetime import datetime"
   ]
  },
  {
   "cell_type": "code",
   "execution_count": 9,
   "metadata": {},
   "outputs": [
    {
     "name": "stdout",
     "output_type": "stream",
     "text": [
      "True\n",
      "False\n",
      "False\n"
     ]
    }
   ],
   "source": [
    "def date_list():\n",
    "    for date in stream:\n",
    "        try:\n",
    "            date = datetime.strptime(date, '%Y-%m-%d')\n",
    "            print(True)\n",
    "        except :\n",
    "            print(False) \n",
    "date_list()"
   ]
  },
  {
   "cell_type": "code",
   "execution_count": null,
   "metadata": {},
   "outputs": [],
   "source": [
    "# 4 задание\n",
    "# Удаляет из списка default_list последнего пользователя \n",
    "#     и возвращает ID нового последнего пользователя.\n",
    "DEFAULT_USER_COUNT = 3\n",
    "\n",
    "def delete_and_return_last_user(region, default_list=['A100', 'A101', 'A102']):\n",
    "   \n",
    "    element_to_delete = default_list[-1]\n",
    "    default_list.remove(element_to_delete)\n",
    "    \n",
    "    return default_list[DEFAULT_USER_COUNT-2]\n",
    "delete_and_return_last_user(1)"
   ]
  },
  {
   "cell_type": "code",
   "execution_count": null,
   "metadata": {},
   "outputs": [],
   "source": [
    "\n",
    "IndexError: list index out of range Данная ошибка говорит о том , что мы запрашиваем объект по соответствующему ему \n",
    "индексу, а при проверке наличия, запрашиваемый индекс не входит в список default_list.\n",
    "\n",
    "При первом запуске функция delete_and_return_last_user работает корректно, так как по заложенному в ней алгоритму,\n",
    "она удаляет из списка default_list объект с индексом [-1] - это ,оответственно,строка 'A102'. И возвращает объект с \n",
    "индексом [-2] - 'A101'. При повторном запуске , функция удаляет объект с индексом [-1], и тогда в этом списке остается только \n",
    "один объек с индексом [0], а объект с индексом [-2], теперь уже находится за пределами списка default_list.\n",
    "\n"
   ]
  }
 ],
 "metadata": {
  "kernelspec": {
   "display_name": "Python 3",
   "language": "python",
   "name": "python3"
  },
  "language_info": {
   "codemirror_mode": {
    "name": "ipython",
    "version": 3
   },
   "file_extension": ".py",
   "mimetype": "text/x-python",
   "name": "python",
   "nbconvert_exporter": "python",
   "pygments_lexer": "ipython3",
   "version": "3.7.6"
  }
 },
 "nbformat": 4,
 "nbformat_minor": 4
}
