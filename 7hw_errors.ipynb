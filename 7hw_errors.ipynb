{
 "cells": [
  {
   "cell_type": "code",
   "execution_count": 21,
   "metadata": {},
   "outputs": [
    {
     "data": {
      "text/plain": [
       "datetime.datetime(2002, 10, 1, 0, 0)"
      ]
     },
     "execution_count": 21,
     "metadata": {},
     "output_type": "execute_result"
    }
   ],
   "source": [
    "#Задание 1 datetime:\n",
    "The_Moscow_Times = 'Wednesday, October 2, 2002'\n",
    "datetime.strptime('Wednesday, October 2, 2002', '%A, %B %u, %Y')\n"
   ]
  },
  {
   "cell_type": "code",
   "execution_count": 22,
   "metadata": {},
   "outputs": [
    {
     "data": {
      "text/plain": [
       "datetime.datetime(2011, 10, 13, 0, 0)"
      ]
     },
     "execution_count": 22,
     "metadata": {},
     "output_type": "execute_result"
    }
   ],
   "source": [
    "The_Guardian = 'Friday, 11.10.13'\n",
    "datetime.strptime('Friday, 11.10.13', '%A, %y.%m.%d')"
   ]
  },
  {
   "cell_type": "code",
   "execution_count": 23,
   "metadata": {},
   "outputs": [
    {
     "data": {
      "text/plain": [
       "datetime.datetime(1977, 8, 18, 0, 0)"
      ]
     },
     "execution_count": 23,
     "metadata": {},
     "output_type": "execute_result"
    }
   ],
   "source": [
    "Daily_News = 'Thursday, 18 August 1977'\n",
    "datetime.strptime('Thursday, 18 August 1977', '%A, %d %B %Y')\n"
   ]
  },
  {
   "cell_type": "code",
   "execution_count": 1,
   "metadata": {},
   "outputs": [],
   "source": [
    "from datetime import datetime"
   ]
  },
  {
   "cell_type": "code",
   "execution_count": 1,
   "metadata": {},
   "outputs": [],
   "source": [
    "#Задание 3\n",
    "from datetime import datetime\n",
    "from datetime import timedelta"
   ]
  },
  {
   "cell_type": "code",
   "execution_count": 2,
   "metadata": {},
   "outputs": [
    {
     "name": "stdout",
     "output_type": "stream",
     "text": [
      "введите дату начала периода в формате YYYY-MM-DD: 2020-01-01\n",
      "введите дату окончания периода в формате YYYY-MM-DD: 2020-01-10\n",
      "2020-01-01\n",
      "2020-01-02\n",
      "2020-01-03\n",
      "2020-01-04\n",
      "2020-01-05\n",
      "2020-01-06\n",
      "2020-01-07\n",
      "2020-01-08\n",
      "2020-01-09\n",
      "2020-01-10\n"
     ]
    }
   ],
   "source": [
    "start_date = input('введите дату начала периода в формате YYYY-MM-DD: ')\n",
    "end_date = input('введите дату окончания периода в формате YYYY-MM-DD: ')\n",
    "def date_range(a, i):    \n",
    "    start_date_dt = datetime.strptime(start_date, '%Y-%m-%d')\n",
    "    end_date_dt = datetime.strptime(end_date, '%Y-%m-%d')\n",
    "# print(start_date_dt, end_date_dt)\n",
    "    if start_date_dt > end_date_dt: \n",
    "        list_=[]\n",
    "        print(list_)\n",
    "    list_date = start_date_dt\n",
    "    while list_date <= end_date_dt:\n",
    "        print(list_date.strftime('%Y-%m-%d'))\n",
    "        list_date += timedelta(days=1) \n",
    "        \n",
    "date_range(start_date, end_date)        "
   ]
  },
  {
   "cell_type": "code",
   "execution_count": null,
   "metadata": {},
   "outputs": [],
   "source": [
    "# 4 задание\n",
    "# Удаляет из списка default_list последнего пользователя \n",
    "#     и возвращает ID нового последнего пользователя.\n",
    "DEFAULT_USER_COUNT = 3\n",
    "\n",
    "def delete_and_return_last_user(region, default_list=['A100', 'A101', 'A102']):\n",
    "   \n",
    "    element_to_delete = default_list[-1]\n",
    "    default_list.remove(element_to_delete)\n",
    "    \n",
    "    return default_list[DEFAULT_USER_COUNT-2]\n",
    "delete_and_return_last_user(1)"
   ]
  },
  {
   "cell_type": "code",
   "execution_count": null,
   "metadata": {},
   "outputs": [],
   "source": [
    "\n",
    "IndexError: list index out of range Данная ошибка говорит о том , что мы запрашиваем объект по соответствующему ему \n",
    "индексу, а при проверке наличия, запрашиваемый индекс не входит в список default_list.\n",
    "\n",
    "При первом запуске функция delete_and_return_last_user работает корректно, так как по заложенному в ней алгоритму,\n",
    "она удаляет из списка default_list объект с индексом [-1] - это ,оответственно,строка 'A102'. И возвращает объект с \n",
    "индексом [-2] - 'A101'. При повторном запуске , функция удаляет объект с индексом [-1], и тогда в этом списке остается только \n",
    "один объек с индексом [0], а объект с индексом [-2], теперь уже находится за пределами списка default_list.\n",
    "\n"
   ]
  }
 ],
 "metadata": {
  "kernelspec": {
   "display_name": "Python 3",
   "language": "python",
   "name": "python3"
  },
  "language_info": {
   "codemirror_mode": {
    "name": "ipython",
    "version": 3
   },
   "file_extension": ".py",
   "mimetype": "text/x-python",
   "name": "python",
   "nbconvert_exporter": "python",
   "pygments_lexer": "ipython3",
   "version": "3.7.6"
  }
 },
 "nbformat": 4,
 "nbformat_minor": 4
}
