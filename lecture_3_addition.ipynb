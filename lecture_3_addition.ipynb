{
 "cells": [
  {
   "cell_type": "code",
   "execution_count": 2,
   "metadata": {},
   "outputs": [
    {
     "name": "stdout",
     "output_type": "stream",
     "text": [
      "Введите слово: hgjhkll\n",
      "h\n"
     ]
    }
   ],
   "source": [
    "x = input(\"Введите слово: \")\n",
    "a = len(x)\n",
    "if a % 2 == 0:\n",
    "    print(x[len(x) // 2 - 1],x[len(x) // 2 ])\n",
    "else:\n",
    "    print(x[len(x) // 2])"
   ]
  },
  {
   "cell_type": "code",
   "execution_count": 3,
   "metadata": {},
   "outputs": [
    {
     "name": "stdout",
     "output_type": "stream",
     "text": [
      "Лучшие рекомендации\n",
      "Alex и Emma\n",
      "Arthur и Kate\n",
      "John и Kira\n",
      "Peter и Liza\n",
      "Richard и Trisha\n"
     ]
    }
   ],
   "source": [
    "boys = ['Peter', 'Alex', 'John', 'Arthur', 'Richard']\n",
    "girls = ['Kate', 'Liza', 'Kira', 'Emma', 'Trisha']\n",
    "if len(boys) == len(girls):\n",
    "    alphabetically_boys = sorted(boys)  \n",
    "    alphabetically_girls = sorted(girls)\n",
    "    group = zip(alphabetically_boys, alphabetically_girls)\n",
    "    print(\"Лучшие рекомендации\")\n",
    "    for print_list in list(group):\n",
    "        print(f\"{print_list[0]} и {print_list[1]}\")\n",
    "else:\n",
    "    print(\"кто-то может остаться без пары!\")"
   ]
  },
  {
   "cell_type": "code",
   "execution_count": 4,
   "metadata": {},
   "outputs": [
    {
     "name": "stdout",
     "output_type": "stream",
     "text": [
      "Celsius average temperature Thailand 23.857142857142854\n",
      "Celsius average temperature Germany 13.714285714285708\n",
      "Celsius average temperature Russia 3.7142857142857166\n",
      "Celsius average temperature Poland 11.857142857142856\n"
     ]
    }
   ],
   "source": [
    "countries_temperature = [\n",
    " ['Thailand', [75.2, 77, 78.8, 73.4, 68, 75.2, 77]],\n",
    " ['Germany', [57.2, 55.4, 59, 59, 53.6, 55.4, 57.2]],\n",
    " ['Russia', [35.6, 37.4, 39.2, 41, 42.8, 39.2, 35.6]],\n",
    " ['Poland', [50, 50, 53.6, 57.2, 55.4, 55.4, 51.8]],\n",
    "]\n",
    "for countries in countries_temperature:\n",
    "    print(\"Celsius average temperature\", countries[0], ((((sum(countries[1] )) / len(countries[1])) - 32) / 1.8)) "
   ]
  },
  {
   "cell_type": "code",
   "execution_count": 5,
   "metadata": {},
   "outputs": [
    {
     "name": "stdout",
     "output_type": "stream",
     "text": [
      "общее количество просмотров 93 количество уникальных пользователей 4\n",
      "1 пользователь в среднем просматривает  23.25 страницы\n"
     ]
    }
   ],
   "source": [
    "stream = [\n",
    "    '2018-01-01,user1,3',\n",
    "    '2018-01-07,user1,4',\n",
    "    '2018-03-29,user1,1',\n",
    "    '2018-04-04,user1,13',\n",
    "    '2018-01-05,user2,7',\n",
    "    '2018-06-14,user3,4',\n",
    "    '2018-07-02,user3,10',\n",
    "    '2018-03-21,user4,19',\n",
    "    '2018-03-22,user4,4',\n",
    "    '2018-04-22,user4,8',\n",
    "    '2018-05-03,user4,9',\n",
    "    '2018-05-11,user4,11',\n",
    "]\n",
    "i = 0\n",
    "sum_views = 0\n",
    "users = []\n",
    "for el in stream:\n",
    "    el = el.split(\",\")\n",
    "    views = int(el[2])\n",
    "    sum_views += views\n",
    "    if el[1] not in users:\n",
    "        users.append(el[1])\n",
    "print(f'общее количество просмотров {sum_views} количество уникальных пользователей {len(users)}')\n",
    "print(f'1 пользователь в среднем просматривает  {sum_views / len(users)} страницы')"
   ]
  },
  {
   "cell_type": "code",
   "execution_count": 7,
   "metadata": {},
   "outputs": [
    {
     "name": "stdout",
     "output_type": "stream",
     "text": [
      "Введите дату: 2018-01-01\n",
      "Введите компанию: yandex\n",
      "65\n"
     ]
    }
   ],
   "source": [
    "stats = [\n",
    "    ['2018-01-01', 'google', 25],\n",
    "    ['2018-01-01', 'yandex', 65],\n",
    "    ['2018-01-01', 'market', 89],\n",
    "    ['2018-01-02', 'google', 574],\n",
    "    ['2018-01-02', 'yandex', 249],\n",
    "    ['2018-01-02', 'market', 994],\n",
    "    ['2018-01-03', 'google', 1843],\n",
    "    ['2018-01-03', 'yandex', 1327],\n",
    "    ['2018-01-03', 'market', 1764],\n",
    "]\n",
    "data = input(\"Введите дату: \")\n",
    "compuni = input(\"Введите компанию: \")\n",
    "for search in stats:\n",
    "    if (search[0], search[1]) == (data, compuni):\n",
    "        print(search[2])"
   ]
  },
  {
   "cell_type": "code",
   "execution_count": 8,
   "metadata": {},
   "outputs": [
    {
     "name": "stdout",
     "output_type": "stream",
     "text": [
      "103\n"
     ]
    }
   ],
   "source": [
    "#Напишите код, который будет вычислять сумму элементов на диагонали. Т. е. 13+32+23+35.\n",
    "#Список может быть любой длины, но всегда является \"квадратным\" (количество элементов во вложенных списках равно их количеству).\n",
    "data = [\n",
    "    [13, 25, 23, 34],\n",
    "    [45, 32, 44, 47],\n",
    "    [12, 33, 23, 95],\n",
    "    [13, 53, 34, 35],\n",
    "    \n",
    "]\n",
    "sum_list = 0\n",
    "y = 0\n",
    "x = 0\n",
    "if (len(data[:]) ==  len(data[0])):\n",
    "    for z in data:\n",
    "        x += 1\n",
    "        y += 1\n",
    "        sum_list += data [x -1][y -1]\n",
    "    print(sum_list)\n",
    "else:\n",
    "    print(ошибка)"
   ]
  },
  {
   "cell_type": "code",
   "execution_count": null,
   "metadata": {},
   "outputs": [],
   "source": []
  }
 ],
 "metadata": {
  "kernelspec": {
   "display_name": "Python 3",
   "language": "python",
   "name": "python3"
  },
  "language_info": {
   "codemirror_mode": {
    "name": "ipython",
    "version": 3
   },
   "file_extension": ".py",
   "mimetype": "text/x-python",
   "name": "python",
   "nbconvert_exporter": "python",
   "pygments_lexer": "ipython3",
   "version": "3.7.6"
  }
 },
 "nbformat": 4,
 "nbformat_minor": 4
}
