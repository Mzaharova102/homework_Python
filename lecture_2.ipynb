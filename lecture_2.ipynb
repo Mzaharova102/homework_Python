{
 "cells": [
  {
   "cell_type": "code",
   "execution_count": 1,
   "metadata": {},
   "outputs": [
    {
     "data": {
      "text/plain": [
       "True"
      ]
     },
     "execution_count": 1,
     "metadata": {},
     "output_type": "execute_result"
    }
   ],
   "source": [
    "long_phrase = 'Насколько проще было бы писать программы, если бы не заказчики'\n",
    "short_phrase = '640Кб должно хватить для любых задач. Билл Гейтс (по легенде)'\n",
    "len('Насколько проще было бы писать программы, если бы не заказчики') > len('640Кб должно хватить для любых задач. Билл Гейтс (по легенде)')"
   ]
  },
  {
   "cell_type": "code",
   "execution_count": 7,
   "metadata": {},
   "outputs": [
    {
     "name": "stdout",
     "output_type": "stream",
     "text": [
      "Введите месяц:сентябрь\n",
      "Введите число:22\n",
      "Весы\n"
     ]
    }
   ],
   "source": [
    "month = input(\"Введите месяц:\")\n",
    "date = int(input(\"Введите число:\"))\n",
    "if (month == \"январь\" and date <= 20) or (month == \"декабрь\" and 21 <= date <= 31):\n",
    "    print(\"Козерог\")\n",
    "elif (month == \"январь\" and 21 <= date <= 31) or (month == \"февраль\" and 1 <= date <= 20): \n",
    "    print(\"Водолей\")\n",
    "elif (month == \"февраль\" and 21 <= date <= 28) or (month == \"март\" and 1 <= date <= 20): \n",
    "    print(\"Рыбы\")\n",
    "elif (month == \"март\" and 21 <= date <= 31) or (month == \"апрель\" and 1 <= date <= 20): \n",
    "    print(\"Овен\")\n",
    "elif (month == \"апрель\" and 21 <= date <= 30) or (month == \"май\" and 1 <= date <= 20): \n",
    "    print(\"Телец\")\n",
    "elif (month == \"май\" and 21 <= date <= 31) or (month == \"июнь\" and 1 <= date <= 20): \n",
    "    print(\"Близнецы\")\n",
    "elif (month == \"июнь\" and 21 <= date <= 30) or (month == \"июль\" and 1 <= date <= 20): \n",
    "    print(\"Рак\")\n",
    "elif (month == \"июль\" and 21 <= date <= 31) or (month == \"август\" and 1 <= date <= 20): \n",
    "    print(\"Лев\")\n",
    "elif (month == \"август\" and 21 <= date <= 30) or (month == \"сентябрь\" and 1 <= date <= 20): \n",
    "    print(\"Дева\")\n",
    "elif (month == \"сентябрь\" and 21 <= date <= 31) or (month == \"октябрь\" and 1 <= date <= 20): \n",
    "    print(\"Весы\")\n",
    "elif (month == \"октябрь\" and 21 <= date <= 30) or (month == \"ноябрь\" and 1 <= date <= 20): \n",
    "    print(\"Скорпион\")\n",
    "elif (month == \"ноябрь\" and 21 <= date <= 31) or (month == \"декабрь\" and 1 <= date <= 20): \n",
    "    print(\"Стрелец\")\n",
    "else :\n",
    "    print(\"без вариантов\")\n",
    "    "
   ]
  },
  {
   "cell_type": "code",
   "execution_count": 1,
   "metadata": {},
   "outputs": [
    {
     "name": "stdout",
     "output_type": "stream",
     "text": [
      "зп100000\n",
      "Введите сколько процентов уходит на ипотеку30\n",
      "Введите сколько процентов уходит на жизнь50\n",
      "Введите количество премий за год2\n",
      " Потрачено на ипотеку 360000.0 Накоплено за год 340000.0\n"
     ]
    }
   ],
   "source": [
    "a = int(input('зп'))\n",
    "b = int(input(\"Введите сколько процентов уходит на ипотеку\"))\n",
    "c = int(input(\"Введите сколько процентов уходит на жизнь\"))\n",
    "d = int(input(\"Введите количество премий за год\"))\n",
    "e = 12 * a\n",
    "g = e * b / 100\n",
    "i = e - (e * c /100 + e * b / 100) + a * d / 2\n",
    "print(\"Потрачено на ипотеку\", g , \"Накоплено за год\" , i )"
   ]
  },
  {
   "cell_type": "code",
   "execution_count": 2,
   "metadata": {},
   "outputs": [
    {
     "name": "stdout",
     "output_type": "stream",
     "text": [
      "Число: 500\n",
      "Объем файла равен  0.48828125 Mb\n"
     ]
    }
   ],
   "source": [
    "n = int(input(\"Число: \"))\n",
    "c = n / 1024\n",
    "print(\"Объем файла равен \" , c ,\"Mb\" )"
   ]
  }
 ],
 "metadata": {
  "kernelspec": {
   "display_name": "Python 3",
   "language": "python",
   "name": "python3"
  },
  "language_info": {
   "codemirror_mode": {
    "name": "ipython",
    "version": 3
   },
   "file_extension": ".py",
   "mimetype": "text/x-python",
   "name": "python",
   "nbconvert_exporter": "python",
   "pygments_lexer": "ipython3",
   "version": "3.7.6"
  }
 },
 "nbformat": 4,
 "nbformat_minor": 4
}
